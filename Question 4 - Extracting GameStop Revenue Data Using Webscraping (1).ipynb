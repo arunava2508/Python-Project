{
 "cells": [
  {
   "cell_type": "markdown",
   "id": "f0018e87-518c-410b-bbbf-285a4591602b",
   "metadata": {},
   "source": [
    "Question 4 - Extracting GameStop Revenue Data Using Webscraping - 1 Points"
   ]
  },
  {
   "cell_type": "code",
   "execution_count": 2,
   "id": "5370115b-b20f-43e4-b530-ac8668ee2d86",
   "metadata": {},
   "outputs": [
    {
     "name": "stdout",
     "output_type": "stream",
     "text": [
      "Date\n",
      "2024-07-16 00:00:00-04:00    28.540001\n",
      "2024-07-17 00:00:00-04:00    27.980000\n",
      "2024-07-18 00:00:00-04:00    25.879999\n",
      "2024-07-19 00:00:00-04:00    24.969999\n",
      "2024-07-22 00:00:00-04:00    25.219999\n",
      "Name: Close, dtype: float64\n"
     ]
    }
   ],
   "source": [
    "import yfinance as yf\n",
    "\n",
    "# Define ticker symbol\n",
    "ticker_symbol = \"GME\"\n",
    "\n",
    "# Download historical data\n",
    "gme_data = yf.Ticker(ticker_symbol).history(period=\"max\")\n",
    "\n",
    "# Print closing prices for the last 5 days\n",
    "print(gme_data[\"Close\"][-5:])\n"
   ]
  },
  {
   "cell_type": "code",
   "execution_count": null,
   "id": "09d25b70-00c6-47b9-9fc1-4a33b3e2dd73",
   "metadata": {},
   "outputs": [],
   "source": []
  },
  {
   "cell_type": "code",
   "execution_count": null,
   "id": "9ed998ae-d81a-4d87-b074-01c34deb6bf4",
   "metadata": {},
   "outputs": [],
   "source": []
  },
  {
   "cell_type": "code",
   "execution_count": null,
   "id": "71415004-14d6-4d39-97c5-bdd9b6702cf5",
   "metadata": {},
   "outputs": [],
   "source": []
  }
 ],
 "metadata": {
  "kernelspec": {
   "display_name": "Python 3 (ipykernel)",
   "language": "python",
   "name": "python3"
  },
  "language_info": {
   "codemirror_mode": {
    "name": "ipython",
    "version": 3
   },
   "file_extension": ".py",
   "mimetype": "text/x-python",
   "name": "python",
   "nbconvert_exporter": "python",
   "pygments_lexer": "ipython3",
   "version": "3.11.9"
  }
 },
 "nbformat": 4,
 "nbformat_minor": 5
}
