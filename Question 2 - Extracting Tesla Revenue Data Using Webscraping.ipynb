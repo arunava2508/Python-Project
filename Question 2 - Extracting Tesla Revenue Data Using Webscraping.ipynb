{
 "cells": [
  {
   "cell_type": "markdown",
   "id": "61fd6300-bf6b-45f1-836a-f2aae3ea5dcb",
   "metadata": {},
   "source": [
    "Question 2 - Extracting Tesla Revenue Data Using Webscraping - 1 Points"
   ]
  },
  {
   "cell_type": "code",
   "execution_count": 6,
   "id": "7dc88d6c-92f4-457e-8fdc-7db4da46dadc",
   "metadata": {},
   "outputs": [
    {
     "name": "stdout",
     "output_type": "stream",
     "text": [
      "Extracted Revenue Data:\n",
      "[('2023-Q1', '18.7'), ('2022-Q4', '17.7')]\n"
     ]
    }
   ],
   "source": [
    "from bs4 import BeautifulSoup\n",
    "\n",
    "# Sample HTML content (replace with actual HTML if needed)\n",
    "html_content = \"\"\"\n",
    "<table>\n",
    "    <tr>\n",
    "        <th>Date</th>\n",
    "        <th>Revenue (USD Billion)</th>\n",
    "    </tr>\n",
    "    <tr>\n",
    "        <td>2023-Q1</td>\n",
    "        <td>18.7</td>\n",
    "    </tr>\n",
    "    <tr>\n",
    "        <td>2022-Q4</td>\n",
    "        <td>17.7</td>\n",
    "    </tr>\n",
    "</table>\n",
    "\"\"\"\n",
    "\n",
    "# Parse the HTML content\n",
    "soup = BeautifulSoup(html_content, \"html.parser\")\n",
    "\n",
    "# Find the revenue table (assuming the provided sample structure)\n",
    "revenue_table = soup.find(\"table\")\n",
    "\n",
    "# Extract data from table rows\n",
    "revenue_data = []\n",
    "for row in revenue_table.find_all(\"tr\")[1:]:  # Skip header row\n",
    "    cells = row.find_all(\"td\")\n",
    "    date = cells[0].text.strip()\n",
    "    revenue = cells[1].text.strip()\n",
    "    revenue_data.append((date, revenue))\n",
    "\n",
    "# Print results\n",
    "print(\"Extracted Revenue Data:\")\n",
    "print(revenue_data)\n"
   ]
  },
  {
   "cell_type": "code",
   "execution_count": null,
   "id": "80a16670-20db-48ab-b8ae-b6903d755462",
   "metadata": {},
   "outputs": [],
   "source": []
  }
 ],
 "metadata": {
  "kernelspec": {
   "display_name": "Python 3 (ipykernel)",
   "language": "python",
   "name": "python3"
  },
  "language_info": {
   "codemirror_mode": {
    "name": "ipython",
    "version": 3
   },
   "file_extension": ".py",
   "mimetype": "text/x-python",
   "name": "python",
   "nbconvert_exporter": "python",
   "pygments_lexer": "ipython3",
   "version": "3.11.9"
  }
 },
 "nbformat": 4,
 "nbformat_minor": 5
}
